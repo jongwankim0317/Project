{
 "cells": [
  {
   "cell_type": "code",
   "execution_count": 8,
   "metadata": {},
   "outputs": [
    {
     "name": "stdout",
     "output_type": "stream",
     "text": [
      "The autoreload extension is already loaded. To reload it, use:\n",
      "  %reload_ext autoreload\n"
     ]
    }
   ],
   "source": [
    "from __future__ import print_function\n",
    "import numpy as np\n",
    "\n",
    "from rnn_layers import *\n",
    "# for auto-reloading external modules\n",
    "# see http://stackoverflow.com/questions/1907993/autoreload-of-modules-in-ipython\n",
    "%load_ext autoreload\n",
    "%autoreload 2"
   ]
  },
  {
   "cell_type": "code",
   "execution_count": 9,
   "metadata": {},
   "outputs": [
    {
     "name": "stdout",
     "output_type": "stream",
     "text": [
      "next_h error:  2.5562554071588464e-09\n"
     ]
    }
   ],
   "source": [
    "# implement rnn_step_forward\n",
    "# errors should be less than 1e-8\n",
    "x, prev_h, Wx, Wh, b, expected_next_h = getdata_rnn_step_forward()\n",
    "\n",
    "next_h, _ = rnn_step_forward(x, prev_h, Wx, Wh, b)\n",
    "\n",
    "print('next_h error: ', rel_error(expected_next_h, next_h))"
   ]
  },
  {
   "cell_type": "code",
   "execution_count": 10,
   "metadata": {},
   "outputs": [
    {
     "name": "stdout",
     "output_type": "stream",
     "text": [
      "dx error     :  5.0265838400113e-10\n",
      "dprev_h error:  3.899315649925344e-11\n",
      "dWx error    :  4.030469661007971e-10\n",
      "dWh error    :  1.0371409799476765e-10\n",
      "db error     :  2.1643354518450215e-11\n"
     ]
    }
   ],
   "source": [
    "# implement rnn_step_backward\n",
    "# errors should be less than 1e-8\n",
    "np.random.seed(2177)\n",
    "\n",
    "x, h, Wx, Wh, b, expected_next_h = getdata_rnn_step_forward()\n",
    "out, cache = rnn_step_forward(x, h, Wx, Wh, b)\n",
    "dnext_h = np.random.randn(*out.shape)\n",
    "dx_num, dprev_h_num, dWx_num, dWh_num, db_num = getdata_rnn_step_backward(x,h,Wx,Wh,b,dnext_h)\n",
    "\n",
    "dx, dprev_h, dWx, dWh, db = rnn_step_backward(dnext_h, cache)\n",
    "\n",
    "print('dx error     : ', rel_error(dx_num, dx))\n",
    "print('dprev_h error: ', rel_error(dprev_h_num, dprev_h))\n",
    "print('dWx error    : ', rel_error(dWx_num, dWx))\n",
    "print('dWh error    : ', rel_error(dWh_num, dWh))\n",
    "print('db error     : ', rel_error(db_num, db))"
   ]
  },
  {
   "cell_type": "code",
   "execution_count": 11,
   "metadata": {
    "pycharm": {
     "name": "#%%\n"
    }
   },
   "outputs": [
    {
     "name": "stdout",
     "output_type": "stream",
     "text": [
      "h error:  2.1007953765777348e-08\n"
     ]
    }
   ],
   "source": [
    "# implement rnn_forward\n",
    "# errors should be less than 1e-7\n",
    "x,h0,Wx,Wh,b, expected_h = getdata_rnn_forward()\n",
    "\n",
    "h, _ = rnn_forward(x, h0, Wx, Wh, b)\n",
    "\n",
    "print('h error: ', rel_error(expected_h, h))"
   ]
  },
  {
   "cell_type": "code",
   "execution_count": 12,
   "metadata": {},
   "outputs": [
    {
     "name": "stdout",
     "output_type": "stream",
     "text": [
      "dx error:  1.9017126901123582e-08\n",
      "dh0 error:  7.31129281788941e-10\n",
      "dWx error:  1.4220996232602759e-10\n",
      "dWh error:  5.696822542404683e-09\n",
      "db error:  8.612106113027419e-10\n"
     ]
    }
   ],
   "source": [
    "# implement rnn_forward\n",
    "# errors should be less than 1e-7\n",
    "np.random.seed(2177)\n",
    "\n",
    "x,h0,Wx,Wh,b, expected_h = getdata_rnn_forward()\n",
    "out, cache = rnn_forward(x, h0, Wx, Wh, b)\n",
    "dout = np.random.randn(*out.shape)\n",
    "dx_num, dh0_num, dWx_num, dWh_num, db_num = getdata_rnn_backward(x,h0,Wx,Wh,b,dout)\n",
    "\n",
    "dx, dh0, dWx, dWh, db = rnn_backward(dout, cache)\n",
    "\n",
    "print('dx error: ', rel_error(dx_num, dx))\n",
    "print('dh0 error: ', rel_error(dh0_num, dh0))\n",
    "print('dWx error: ', rel_error(dWx_num, dWx))\n",
    "print('dWh error: ', rel_error(dWh_num, dWh))\n",
    "print('db error: ', rel_error(db_num, db))"
   ]
  },
  {
   "cell_type": "code",
   "execution_count": null,
   "metadata": {},
   "outputs": [],
   "source": []
  }
 ],
 "metadata": {
  "kernelspec": {
   "display_name": "Python [conda env:deep20] *",
   "language": "python",
   "name": "conda-env-deep20-py"
  },
  "language_info": {
   "codemirror_mode": {
    "name": "ipython",
    "version": 3
   },
   "file_extension": ".py",
   "mimetype": "text/x-python",
   "name": "python",
   "nbconvert_exporter": "python",
   "pygments_lexer": "ipython3",
   "version": "3.8.5"
  }
 },
 "nbformat": 4,
 "nbformat_minor": 2
}
